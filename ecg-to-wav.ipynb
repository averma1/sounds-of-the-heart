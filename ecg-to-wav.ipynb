{
  "nbformat": 4,
  "nbformat_minor": 0,
  "metadata": {
    "colab": {
      "provenance": []
    },
    "kernelspec": {
      "name": "python3",
      "display_name": "Python 3"
    },
    "language_info": {
      "name": "python"
    }
  },
  "cells": [
    {
      "cell_type": "code",
      "source": [
        "from google.colab import drive\n",
        "drive.mount('/content/drive')"
      ],
      "metadata": {
        "id": "8_0CFHsifKcj"
      },
      "execution_count": null,
      "outputs": []
    },
    {
      "cell_type": "code",
      "source": [
        "import wfdb\n",
        "import numpy as np\n",
        "from scipy.io.wavfile import write\n",
        "import matplotlib.pyplot as plt"
      ],
      "metadata": {
        "id": "bSHlqUbLjUMH"
      },
      "execution_count": null,
      "outputs": []
    },
    {
      "cell_type": "code",
      "source": [
        "#set the path to the dataset\n",
        "data_path = '/content/drive/MyDrive/s23/deep_learning/DL4M_Final/Coding/ecg-to-wav/mit-bih-arrhythmia-database'\n"
      ],
      "metadata": {
        "id": "e0Olb2_mjTnJ"
      },
      "execution_count": null,
      "outputs": []
    },
    {
      "cell_type": "code",
      "execution_count": null,
      "metadata": {
        "id": "MaZ3hKIifG5N"
      },
      "outputs": [],
      "source": [
        "#select a record from the dataset\n",
        "#note, this only works if data files are saved as numbers in the name (ex. 101.hea, 101.xyz). \n",
        "#for other file names, you must change the names to start with numbers and also change the info in the .hea files so that they know to reference each other with the updated names\n",
        "\n",
        "for i in range(100, 235):\n",
        "    record_name = str(i)\n",
        "\n",
        "    try:\n",
        "        #load the signal data from the record file\n",
        "        signal, _ = wfdb.rdsamp(f'{data_path}/{record_name}')\n",
        "\n",
        "        #get the sampling frequency of the record\n",
        "        fs = wfdb.rdheader(f'{data_path}/{record_name}').fs\n",
        "\n",
        "        #split the signal into 15-second chunks\n",
        "        chunk_size = 15 * fs\n",
        "        chunks = [signal[j:j+chunk_size] for j in range(0, len(signal), chunk_size)]\n",
        "\n",
        "        #iterate over the chunks\n",
        "        for chunk_idx, chunk in enumerate(chunks):\n",
        "\n",
        "            #amplify the signal by a factor of 3000\n",
        "            amplified_signal = chunk * 3000\n",
        "\n",
        "            #scale the amplified signal to a 16-bit integer array\n",
        "            scaled_data = np.int16(amplified_signal / np.max(np.abs(amplified_signal)) * 32767)\n",
        "\n",
        "            #save the amplified signal as a WAV file\n",
        "            write('/content/drive/MyDrive/dl4m/DL4M_Final/Coding/midi-converter/ecg-to-wav/wav-output/' + f'{record_name}_chunk{chunk_idx+1}_amplified_3000.wav', fs, scaled_data)\n",
        "        \n",
        "    except FileNotFoundError:\n",
        "        print(f'File {record_name} not found. Skipping...')"
      ]
    }
  ]
}